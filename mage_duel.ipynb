{
 "cells": [
  {
   "cell_type": "markdown",
   "id": "5846606d",
   "metadata": {},
   "source": [
    "Let's use what we've learned to play a mage duel!\n",
    "\n",
    "Imagine your wizard has 6d4 health points and you have spells that do 6d4 damage. \"6d4\" means rolling six 4-sided dice and summing the result.\n",
    "\n",
    "Your opposing mage has 4d6 health points and spells that do 4d6. \"4d6\" means rolling four six-sided dice and summing the result.\n",
    "\n",
    "Exercises\n",
    "\n",
    "Simulate mage duels to answer who is the more powerful mage?\n",
    "\n",
    "Before running simulations, do you have a hypothesis of which mage will win? Do you have a hunch? Write it down. This is your first exercise.\n",
    "Simulate 10 mage duels. Is there a clear winner? Run that 10 duel simulation again. Was the answer similar?\n",
    "Do the results change much at 100 duels?\n",
    "Now, simulate 10,000 mage duels. Is there a clear winner?"
   ]
  },
  {
   "cell_type": "code",
   "execution_count": 46,
   "id": "5311212e",
   "metadata": {},
   "outputs": [],
   "source": [
    "import matplotlib.pyplot as plt\n",
    "import numpy as np\n",
    "import pandas as pd\n",
    "from scipy import stats"
   ]
  },
  {
   "cell_type": "code",
   "execution_count": null,
   "id": "162f0d5b",
   "metadata": {},
   "outputs": [],
   "source": [
    "# I assumed the 4 sided dice will win, because losing 2 dye is not as important as having higher possibility of points. "
   ]
  },
  {
   "cell_type": "code",
   "execution_count": 45,
   "id": "c9f9cb01",
   "metadata": {},
   "outputs": [
    {
     "name": "stdout",
     "output_type": "stream",
     "text": [
      "The power of the 4 sided mage is 152\n",
      "The power of the 6 sided mage is 146\n"
     ]
    }
   ],
   "source": [
    "# 4 sided dice rolled 6 times\n",
    "\n",
    "nrows_four = 10\n",
    "ncols_four = 6\n",
    "\n",
    "four_sided = np.random.choice([1, 2, 3, 4], nrows_four * ncols_four).reshape(nrows_four, ncols_four)\n",
    "four_sum = four_sided.sum()\n",
    "\n",
    "print(f'The power of the 4 sided mage is {four_sum}')\n",
    "\n",
    "# 6 sided dice rolled 4 times\n",
    "\n",
    "nrows_six = 10\n",
    "ncols_six = 4\n",
    "\n",
    "six_sided = np.random.choice([1, 2, 3, 4, 5, 6], nrows_six * ncols_six).reshape(nrows_six, ncols_six)\n",
    "six_sum = six_sided.sum()\n",
    "\n",
    "print(f'The power of the 6 sided mage is {six_sum}')"
   ]
  },
  {
   "cell_type": "code",
   "execution_count": 44,
   "id": "4bbfb0c3",
   "metadata": {},
   "outputs": [
    {
     "name": "stdout",
     "output_type": "stream",
     "text": [
      "The power of the 4 sided mage is 1522\n",
      "The power of the 6 sided mage is 1446\n"
     ]
    }
   ],
   "source": [
    "# 4 sided dice rolled 6 times\n",
    "\n",
    "nrows_four = 100\n",
    "ncols_four = 6\n",
    "\n",
    "four_sided = np.random.choice([1, 2, 3, 4], nrows_four * ncols_four).reshape(nrows_four, ncols_four)\n",
    "four_sum = four_sided.sum()\n",
    "\n",
    "print(f'The power of the 4 sided mage is {four_sum}')\n",
    "\n",
    "# 6 sided dice rolled 4 times\n",
    "\n",
    "nrows_six = 100\n",
    "ncols_six = 4\n",
    "\n",
    "six_sided = np.random.choice([1, 2, 3, 4, 5, 6], nrows_six * ncols_six).reshape(nrows_six, ncols_six)\n",
    "six_sum = six_sided.sum()\n",
    "\n",
    "print(f'The power of the 6 sided mage is {six_sum}')"
   ]
  },
  {
   "cell_type": "code",
   "execution_count": 41,
   "id": "fe8b6439",
   "metadata": {},
   "outputs": [
    {
     "name": "stdout",
     "output_type": "stream",
     "text": [
      "The power of the 4 sided mage is 150050\n",
      "The power of the 6 sided mage is 139794\n"
     ]
    }
   ],
   "source": [
    "# 4 sided dice rolled 6 times\n",
    "\n",
    "nrows_four = 10_000\n",
    "ncols_four = 6\n",
    "\n",
    "four_sided = np.random.choice([1, 2, 3, 4], nrows_four * ncols_four).reshape(nrows_four, ncols_four)\n",
    "four_sum = four_sided.sum()\n",
    "\n",
    "print(f'The power of the 4 sided mage is {four_sum}')\n",
    "\n",
    "# 6 sided dice rolled 4 times\n",
    "\n",
    "nrows_six = 10_000\n",
    "ncols_six = 4\n",
    "\n",
    "six_sided = np.random.choice([1, 2, 3, 4, 5, 6], nrows_six * ncols_six).reshape(nrows_six, ncols_six)\n",
    "six_sum = six_sided.sum()\n",
    "\n",
    "print(f'The power of the 6 sided mage is {six_sum}')"
   ]
  },
  {
   "cell_type": "code",
   "execution_count": null,
   "id": "31473f3b",
   "metadata": {},
   "outputs": [],
   "source": [
    "# Looks like the majority of the time the 4 sided dye is winning. Occasionally, and very rarely, it beats the 6 sided by maybe a few points, but not often, as expected. "
   ]
  }
 ],
 "metadata": {
  "kernelspec": {
   "display_name": "Python 3 (ipykernel)",
   "language": "python",
   "name": "python3"
  },
  "language_info": {
   "codemirror_mode": {
    "name": "ipython",
    "version": 3
   },
   "file_extension": ".py",
   "mimetype": "text/x-python",
   "name": "python",
   "nbconvert_exporter": "python",
   "pygments_lexer": "ipython3",
   "version": "3.9.7"
  }
 },
 "nbformat": 4,
 "nbformat_minor": 5
}

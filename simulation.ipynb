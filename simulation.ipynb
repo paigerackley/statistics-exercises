{
 "cells": [
  {
   "cell_type": "code",
   "execution_count": 2,
   "id": "3e7e54cb",
   "metadata": {},
   "outputs": [],
   "source": [
    "import numpy as np\n",
    "import pandas as pd\n",
    "\n",
    "np.random.seed(29)"
   ]
  },
  {
   "cell_type": "code",
   "execution_count": 3,
   "id": "0e2550b6",
   "metadata": {},
   "outputs": [
    {
     "name": "stdout",
     "output_type": "stream",
     "text": [
      "The odds of rolling doubles on two fair 6 sided dice are 17%\n"
     ]
    }
   ],
   "source": [
    "# 1. How likely is it that you roll doubles when rolling two dice?\n",
    "n_trials = nrows = 10_000 #10,000 - 100,000 should be fine\n",
    "n_dice = ncols = 2 # ncols = number of dice\n",
    "\n",
    "rolls = np.random.choice([1, 2, 3, 4, 5, 6], nrows * ncols).reshape(nrows, ncols)\n",
    "df = pd.DataFrame(rolls)\n",
    "doubles = df.apply(lambda row: row.values[0] == row.values[1], axis=1).mean()\n",
    "print(f'The odds of rolling doubles on two fair 6 sided dice are {round(doubles*100)}%')"
   ]
  },
  {
   "cell_type": "code",
   "execution_count": 4,
   "id": "b756344b",
   "metadata": {},
   "outputs": [
    {
     "name": "stdout",
     "output_type": "stream",
     "text": [
      "The odds of getting exactly three heads when flipping five coins is 22%\n",
      "The odds of gettng three or more heads when flipping five coins is 85%\n"
     ]
    }
   ],
   "source": [
    "# 2. If you flip 8 coins, what is the probability of getting exactly 3 heads? What is the probability of getting \n",
    "# more than 3 heads?\n",
    "n_trials = nrows = 10_000\n",
    "n_dice = ncols = 8\n",
    "\n",
    "rolls = np.random.choice([True, False], nrows * ncols).reshape(nrows, ncols)\n",
    "df = pd.DataFrame(rolls)\n",
    "three_heads = df.apply(lambda row: row.values.sum() == 3, axis=1).mean()\n",
    "more_than_three_heads = df.apply(lambda row: row.values.sum() >= 3, axis=1).mean()\n",
    "\n",
    "print(f'The odds of getting exactly three heads when flipping five coins is {round(three_heads*100)}%')\n",
    "print(f'The odds of gettng three or more heads when flipping five coins is {round(more_than_three_heads*100)}%')"
   ]
  },
  {
   "cell_type": "code",
   "execution_count": 5,
   "id": "cbeb808c",
   "metadata": {},
   "outputs": [
    {
     "name": "stdout",
     "output_type": "stream",
     "text": [
      "The odds of getting both data science on the billboard is 6%\n"
     ]
    }
   ],
   "source": [
    "# 3. There are approximitely 3 web development cohorts for every 1 data science cohort at Codeup. Assuming that \n",
    "# Codeup randomly selects an alumni to put on a billboard, what are the odds that the two billboards I drive past \n",
    "# both have data science students on them?\n",
    "n_trials = nrows = 10_000\n",
    "n_billb = ncols = 2 \n",
    "\n",
    "rolls = np.random.choice(['Data Science', 'Web', 'Web', 'Web'], nrows * ncols).reshape(nrows, ncols)\n",
    "df = pd.DataFrame(rolls)\n",
    "ds_billb = df.apply(lambda row: (row.values[0] == 'Data Science') and (row.values[1] == 'Data Science'), axis=1).mean()\n",
    "\n",
    "print(f'The odds of getting both data science on the billboard is {round(ds_billb*100)}%')"
   ]
  },
  {
   "cell_type": "code",
   "execution_count": 6,
   "id": "83ff0e16",
   "metadata": {},
   "outputs": [
    {
     "name": "stdout",
     "output_type": "stream",
     "text": [
      "The odds of there being poptarts on Friday afternoon is 72%\n"
     ]
    }
   ],
   "source": [
    "# 4. Codeup students buy, on average, 3 poptart packages with a standard deviation of 1.5 a day from the snack \n",
    "# vending machine. If on monday the machine is restocked with 17 poptart packages, how likely is it that I will be \n",
    "# able to buy some poptarts on Friday afternoon? (Remember, if you have mean and standard deviation, use the \n",
    "# np.random.normal)\n",
    "n_trials = nrows = 10_000\n",
    "n_poptart = ncols = 5\n",
    "\n",
    "rolls = np.random.normal(3, 1.5, nrows * ncols).reshape(nrows, ncols)\n",
    "df = pd.DataFrame(rolls)\n",
    "poptarts = df.apply(lambda row: row.values.sum() < 17, axis=1).mean()\n",
    "\n",
    "print(f'The odds of there being poptarts on Friday afternoon is {round(poptarts*100)}%')"
   ]
  },
  {
   "cell_type": "code",
   "execution_count": 7,
   "id": "d679ca33",
   "metadata": {},
   "outputs": [
    {
     "name": "stdout",
     "output_type": "stream",
     "text": [
      "The odds of a woman being taller than a man is 21%\n"
     ]
    }
   ],
   "source": [
    "# 5. Compare Heights\n",
    "\n",
    "# - Men have an average height of 178 cm and standard deviation of 8cm.\n",
    "# - Women have a mean of 170, sd = 6cm.\n",
    "# Since you have means and standard deviations, you can use np.random.normal to generate observations.\n",
    "# If a man and woman are chosen at random, what is the likelihood the woman is taller than the man?\n",
    "male_heights = np.random.normal(178, 8, 100_000)\n",
    "female_heights = np.random.normal(170, 6, 100_000)\n",
    "\n",
    "df = pd.DataFrame({\"male_heights\" : male_heights,\n",
    "                  \"female_heights\" : female_heights})\n",
    "# # add calculation column\n",
    "df['taller_female'] = male_heights < female_heights\n",
    "# mean\n",
    "tall_female_prob = df['taller_female'].mean()\n",
    "\n",
    "print(f'The odds of a woman being taller than a man is {round(tall_female_prob*100)}%')"
   ]
  },
  {
   "cell_type": "code",
   "execution_count": 8,
   "id": "e960a3f1",
   "metadata": {},
   "outputs": [
    {
     "name": "stdout",
     "output_type": "stream",
     "text": [
      "The odds of 50 students dowloading Anaconda without a problem are 82%\n"
     ]
    }
   ],
   "source": [
    "# 6. When installing anaconda on a student's computer, there's a 1 in 250 chance that the download is corrupted \n",
    "# and the installation fails. What are the odds that after having 50 students download anaconda, no one has an \n",
    "# installation issue? \n",
    "n_trials = nrows = 10_000\n",
    "students = ncols = 50\n",
    "\n",
    "chance = [False for r in range(1,250)]\n",
    "chance.append(True)\n",
    "\n",
    "\n",
    "#create array\n",
    "installs = np.random.choice(chance, nrows * ncols).reshape(nrows, ncols)\n",
    "#dataframe convert\n",
    "df = pd.DataFrame(installs)\n",
    "has_problem = df.apply(lambda row: row.values.sum() == 0, axis=1).mean()\n",
    "\n",
    "\n",
    "print(f'The odds of 50 students dowloading Anaconda without a problem are {round(has_problem*100)}%')"
   ]
  },
  {
   "cell_type": "code",
   "execution_count": 9,
   "id": "4517e8f3",
   "metadata": {},
   "outputs": [],
   "source": [
    "# 100 students?\n",
    "def anaconda_problem(number_of_students):\n",
    "    \n",
    "    nrows = 100_000 # set rows to number of simulations\n",
    "    ncols = number_of_students # set columns to number of students in each simulation\n",
    "\n",
    "    issue_range = [False for r in range(1,250)]\n",
    "    issue_range.append(True)\n",
    "\n",
    "    installs = np.random.choice(issue_range, nrows * ncols).reshape(nrows, ncols)\n",
    "\n",
    "    df = pd.DataFrame(installs)\n",
    "\n",
    "    # Sum the number of True values in each row (trial) \n",
    "    # create a boolian array that shows true for each row (trial) that had no Trues\n",
    "    # Take the mean of that array to get the odds of not encountering any problems in the trial group\n",
    "    no_problems = df.apply(lambda row: row.values.sum() == 0, axis=1).mean()\n",
    "    \n",
    "    # Sum the number of True values in each row (trial) \n",
    "    # create a boolian array that shows true for each row (trial) that had no Trues\n",
    "    # Take the mean of that array to get the odds encountering any problems in the trial group\n",
    "    problems = df.apply(lambda row: row.values.sum() > 0, axis=1).mean()\n",
    "\n",
    "    print(f'The odds of {number_of_students} students downloading Anaconda without a problem are {round(no_problems*100)}%')\n",
    "    print(f'The odds of {number_of_students} students downloading Anaconda encountering at least one problem are {round(problems*100)}%')"
   ]
  },
  {
   "cell_type": "code",
   "execution_count": 10,
   "id": "d7b8ec05",
   "metadata": {},
   "outputs": [
    {
     "name": "stdout",
     "output_type": "stream",
     "text": [
      "The odds of 100 students downloading Anaconda without a problem are 67%\n",
      "The odds of 100 students downloading Anaconda encountering at least one problem are 33%\n"
     ]
    }
   ],
   "source": [
    "anaconda_problem(100)"
   ]
  },
  {
   "cell_type": "code",
   "execution_count": 11,
   "id": "31bf284e",
   "metadata": {},
   "outputs": [
    {
     "name": "stdout",
     "output_type": "stream",
     "text": [
      "The odds of 150 students downloading Anaconda without a problem are 55%\n",
      "The odds of 150 students downloading Anaconda encountering at least one problem are 45%\n"
     ]
    }
   ],
   "source": [
    "#What is the probability that we observe an installation issue within the first 150 students that download\n",
    "# anaconda?\n",
    "anaconda_problem(150)"
   ]
  },
  {
   "cell_type": "code",
   "execution_count": 12,
   "id": "df7557ed",
   "metadata": {},
   "outputs": [
    {
     "name": "stdout",
     "output_type": "stream",
     "text": [
      "The odds of 450 students downloading Anaconda without a problem are 16%\n",
      "The odds of 450 students downloading Anaconda encountering at least one problem are 84%\n"
     ]
    }
   ],
   "source": [
    "# How likely is it that 450 students all download anaconda without an issue?\n",
    "anaconda_problem(450)"
   ]
  },
  {
   "cell_type": "code",
   "execution_count": 13,
   "id": "27990f4f",
   "metadata": {},
   "outputs": [],
   "source": [
    "# If a problem asks for the SAME SCENARIO just different # of cols, try a function"
   ]
  },
  {
   "cell_type": "code",
   "execution_count": 17,
   "id": "29e52f05",
   "metadata": {},
   "outputs": [
    {
     "data": {
      "text/plain": [
       "0.0262"
      ]
     },
     "execution_count": 17,
     "metadata": {},
     "output_type": "execute_result"
    }
   ],
   "source": [
    "# 7. There's a 70% chance on any given day that there will be at least one food truck at Travis Park. However, \n",
    "# you haven't seen a food truck there in 3 days. How unlikely is this?\n",
    "n_rows = 10_000\n",
    "n_cols = 3\n",
    "\n",
    "trucks = np.random.choice([1, 0], size=(n_rows, n_cols), p=[0.7, 0.3])\n",
    "(trucks.sum(axis=1) == 0).mean()"
   ]
  },
  {
   "cell_type": "code",
   "execution_count": 18,
   "id": "604981df",
   "metadata": {},
   "outputs": [
    {
     "data": {
      "text/plain": [
       "0.9122"
      ]
     },
     "execution_count": 18,
     "metadata": {},
     "output_type": "execute_result"
    }
   ],
   "source": [
    "# How likely is it that a food truck will show up sometime this week?\n",
    "\n",
    "n_cols = 2 # to represent 2 days in a row\n",
    "\n",
    "trucks = np.random.choice([1, 0], size=(n_rows, n_cols), p=[0.7, 0.3])\n",
    "(trucks.sum(axis=1) > 0).mean()"
   ]
  },
  {
   "cell_type": "code",
   "execution_count": 19,
   "id": "4f17f267",
   "metadata": {},
   "outputs": [
    {
     "data": {
      "text/plain": [
       "0.5007"
      ]
     },
     "execution_count": 19,
     "metadata": {},
     "output_type": "execute_result"
    }
   ],
   "source": [
    "#8. If 23 people are in the same room, what are the odds that two of them share a birthday? \n",
    "# What if it's 20 people? 40?\n",
    "n_rows = 10_000\n",
    "n_cols = 23\n",
    "\n",
    "birthdays = np.random.choice(range(365), size=(n_rows, n_cols))\n",
    "birthdays = pd.DataFrame(birthdays)\n",
    "birthdays[\"n_unique\"] = birthdays.nunique(axis=1)\n",
    "\n",
    "# What's the proportion of rows where we have multiple shared days\n",
    "(birthdays.n_unique != 23).mean()"
   ]
  },
  {
   "cell_type": "code",
   "execution_count": 20,
   "id": "0f936e2f",
   "metadata": {},
   "outputs": [
    {
     "data": {
      "text/plain": [
       "1.0"
      ]
     },
     "execution_count": 20,
     "metadata": {},
     "output_type": "execute_result"
    }
   ],
   "source": [
    "# 20 (no change except n_cols)\n",
    "n_rows = 10_000\n",
    "n_cols = 20\n",
    "\n",
    "birthdays = np.random.choice(range(365), size=(n_rows, n_cols))\n",
    "birthdays = pd.DataFrame(birthdays)\n",
    "birthdays[\"n_unique\"] = birthdays.nunique(axis=1)\n",
    "\n",
    "# What's the proportion of rows where we have multiple shared days\n",
    "(birthdays.n_unique != 23).mean()"
   ]
  },
  {
   "cell_type": "code",
   "execution_count": 21,
   "id": "071f3395",
   "metadata": {},
   "outputs": [
    {
     "data": {
      "text/plain": [
       "1.0"
      ]
     },
     "execution_count": 21,
     "metadata": {},
     "output_type": "execute_result"
    }
   ],
   "source": [
    "#40 (no change except n_cols)\n",
    "n_rows = 10_000\n",
    "n_cols = 40\n",
    "\n",
    "birthdays = np.random.choice(range(365), size=(n_rows, n_cols))\n",
    "birthdays = pd.DataFrame(birthdays)\n",
    "birthdays[\"n_unique\"] = birthdays.nunique(axis=1)\n",
    "\n",
    "# What's the proportion of rows where we have multiple shared days\n",
    "(birthdays.n_unique != 23).mean()"
   ]
  },
  {
   "cell_type": "code",
   "execution_count": null,
   "id": "20300468",
   "metadata": {},
   "outputs": [],
   "source": []
  }
 ],
 "metadata": {
  "kernelspec": {
   "display_name": "Python 3 (ipykernel)",
   "language": "python",
   "name": "python3"
  },
  "language_info": {
   "codemirror_mode": {
    "name": "ipython",
    "version": 3
   },
   "file_extension": ".py",
   "mimetype": "text/x-python",
   "name": "python",
   "nbconvert_exporter": "python",
   "pygments_lexer": "ipython3",
   "version": "3.9.7"
  }
 },
 "nbformat": 4,
 "nbformat_minor": 5
}

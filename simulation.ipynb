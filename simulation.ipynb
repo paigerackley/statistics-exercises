{
 "cells": [
  {
   "cell_type": "code",
   "execution_count": 25,
   "id": "3e7e54cb",
   "metadata": {},
   "outputs": [],
   "source": [
    "import numpy as np\n",
    "import pandas as pd\n",
    "import random\n",
    "\n",
    "\n",
    "np.random.seed(29)"
   ]
  },
  {
   "cell_type": "code",
   "execution_count": 26,
   "id": "0e2550b6",
   "metadata": {},
   "outputs": [
    {
     "name": "stdout",
     "output_type": "stream",
     "text": [
      "The odds of rolling doubles on two fair 6 sided dice are 17%\n"
     ]
    }
   ],
   "source": [
    "# 1. How likely is it that you roll doubles when rolling two dice?\n",
    "n_trials = nrows = 10_000 #10,000 - 100,000 should be fine\n",
    "n_dice = ncols = 2 # ncols = number of dice\n",
    "\n",
    "rolls = np.random.choice([1, 2, 3, 4, 5, 6], nrows * ncols).reshape(nrows, ncols)\n",
    "df = pd.DataFrame(rolls)\n",
    "doubles = df.apply(lambda row: row.values[0] == row.values[1], axis=1).mean()\n",
    "print(f'The odds of rolling doubles on two fair 6 sided dice are {round(doubles*100)}%')"
   ]
  },
  {
   "cell_type": "code",
   "execution_count": 27,
   "id": "b756344b",
   "metadata": {},
   "outputs": [
    {
     "name": "stdout",
     "output_type": "stream",
     "text": [
      "The odds of getting exactly three heads when flipping five coins is 22%\n",
      "The odds of gettng three or more heads when flipping five coins is 85%\n"
     ]
    }
   ],
   "source": [
    "# 2. If you flip 8 coins, what is the probability of getting exactly 3 heads? What is the probability of getting \n",
    "# more than 3 heads?\n",
    "n_trials = nrows = 10_000\n",
    "n_dice = ncols = 8\n",
    "\n",
    "rolls = np.random.choice([True, False], nrows * ncols).reshape(nrows, ncols)\n",
    "df = pd.DataFrame(rolls)\n",
    "three_heads = df.apply(lambda row: row.values.sum() == 3, axis=1).mean()\n",
    "more_than_three_heads = df.apply(lambda row: row.values.sum() >= 3, axis=1).mean()\n",
    "\n",
    "print(f'The odds of getting exactly three heads when flipping five coins is {round(three_heads*100)}%')\n",
    "print(f'The odds of gettng three or more heads when flipping five coins is {round(more_than_three_heads*100)}%')"
   ]
  },
  {
   "cell_type": "code",
   "execution_count": 38,
   "id": "cbeb808c",
   "metadata": {},
   "outputs": [
    {
     "name": "stdout",
     "output_type": "stream",
     "text": [
      "The odds of getting both data science on the billboard is 6%\n"
     ]
    }
   ],
   "source": [
    "# 3. There are approximitely 3 web development cohorts for every 1 data science cohort at Codeup. Assuming that \n",
    "# Codeup randomly selects an alumni to put on a billboard, what are the odds that the two billboards I drive past \n",
    "# both have data science students on them?\n",
    "n_trials = nrows = 10_000\n",
    "n_billb = ncols = 2 \n",
    "\n",
    "rolls = np.random.choice(['Data Science', 'Web', 'Web', 'Web'], nrows * ncols).reshape(nrows, ncols)\n",
    "df = pd.DataFrame(rolls)\n",
    "ds_billb = df.apply(lambda row: (row.values[0] == 'Data Science') and (row.values[1] == 'Data Science'), axis=1).mean()\n",
    "\n",
    "print(f'The odds of getting both data science on the billboard is {round(ds_billb*100)}%')"
   ]
  },
  {
   "cell_type": "code",
   "execution_count": 41,
   "id": "83ff0e16",
   "metadata": {},
   "outputs": [
    {
     "name": "stdout",
     "output_type": "stream",
     "text": [
      "The odds of there being poptarts on Friday afternoon is 73%\n"
     ]
    }
   ],
   "source": [
    "# 4. Codeup students buy, on average, 3 poptart packages with a standard deviation of 1.5 a day from the snack \n",
    "# vending machine. If on monday the machine is restocked with 17 poptart packages, how likely is it that I will be \n",
    "# able to buy some poptarts on Friday afternoon? (Remember, if you have mean and standard deviation, use the \n",
    "# np.random.normal)\n",
    "n_trials = nrows = 10_000\n",
    "n_poptart = ncols = 5\n",
    "\n",
    "rolls = np.random.normal(3, 1.5, nrows * ncols).reshape(nrows, ncols)\n",
    "df = pd.DataFrame(rolls)\n",
    "poptarts = df.apply(lambda row: row.values.sum() < 17, axis=1).mean()\n",
    "\n",
    "print(f'The odds of there being poptarts on Friday afternoon is {round(poptarts*100)}%')"
   ]
  },
  {
   "cell_type": "code",
   "execution_count": 48,
   "id": "d679ca33",
   "metadata": {},
   "outputs": [
    {
     "name": "stdout",
     "output_type": "stream",
     "text": [
      "The odds of a woman being taller than a man is 21%\n"
     ]
    }
   ],
   "source": [
    "# 5. Compare Heights\n",
    "\n",
    "# - Men have an average height of 178 cm and standard deviation of 8cm.\n",
    "# - Women have a mean of 170, sd = 6cm.\n",
    "# Since you have means and standard deviations, you can use np.random.normal to generate observations.\n",
    "# If a man and woman are chosen at random, what is the likelihood the woman is taller than the man?\n",
    "male_heights = np.random.normal(178, 8, 100_000)\n",
    "female_heights = np.random.normal(170, 6, 100_000)\n",
    "\n",
    "df = pd.DataFrame({\"male_heights\" : male_heights,\n",
    "                  \"female_heights\" : female_heights})\n",
    "# # add calculation column\n",
    "df['taller_female'] = male_heights < female_heights\n",
    "# mean\n",
    "tall_female_prob = df['taller_female'].mean()\n",
    "\n",
    "print(f'The odds of a woman being taller than a man is {round(tall_female_prob*100)}%')"
   ]
  },
  {
   "cell_type": "code",
   "execution_count": null,
   "id": "e960a3f1",
   "metadata": {},
   "outputs": [],
   "source": [
    "# 6. When installing anaconda on a student's computer, there's a 1 in 250 chance that the download is corrupted \n",
    "# and the installation fails. What are the odds that after having 50 students download anaconda, no one has an \n",
    "# installation issue? \n",
    "\n",
    "\n",
    "\n",
    "\n",
    "\n",
    "\n",
    "\n",
    "# 100 students?\n",
    "\n"
   ]
  }
 ],
 "metadata": {
  "kernelspec": {
   "display_name": "Python 3 (ipykernel)",
   "language": "python",
   "name": "python3"
  },
  "language_info": {
   "codemirror_mode": {
    "name": "ipython",
    "version": 3
   },
   "file_extension": ".py",
   "mimetype": "text/x-python",
   "name": "python",
   "nbconvert_exporter": "python",
   "pygments_lexer": "ipython3",
   "version": "3.9.7"
  }
 },
 "nbformat": 4,
 "nbformat_minor": 5
}

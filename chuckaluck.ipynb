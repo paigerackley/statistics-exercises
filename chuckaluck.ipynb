{
 "cells": [
  {
   "cell_type": "markdown",
   "id": "c97a43c9",
   "metadata": {},
   "source": [
    "To play, the House says, \"Pay $1, pick a number and roll 3 dice. \n",
    "If any of those dice come up, you'll win $1, $2, or $3\".\n",
    "\n",
    "\"It's even odds\", they say, \"because the probability of rolling your number is 1/6 and you get to roll 3 dice! 1/6 + 1/6 + 1/6 is 3/6 which is 1/2\".\n",
    "You know better than this, so it's time to make an experiment to approximate the actual risk and payoff...\n",
    "\n",
    "Rules:\n",
    "\n",
    "The player pays $1 to play and picks a number.\n",
    "\n",
    "The House rolls 3 dice at once.\n",
    "\n",
    "Payouts:\n",
    "\n",
    "$3 if all three dice match the chosen number\n",
    "$2 if exactly two dice match the chosen number\n",
    "$1 is exactly one of the dice matches the chosen number\n",
    "If none of the dice match the player's chosen number, then the House keeps the $1."
   ]
  },
  {
   "cell_type": "code",
   "execution_count": 2,
   "id": "295f1c3a",
   "metadata": {},
   "outputs": [],
   "source": [
    "%matplotlib inline\n",
    "import numpy as np\n",
    "import pandas as pd\n",
    "\n",
    "\n",
    "np.random.seed(29)"
   ]
  },
  {
   "cell_type": "code",
   "execution_count": 89,
   "id": "890081be",
   "metadata": {},
   "outputs": [
    {
     "data": {
      "text/html": [
       "<div>\n",
       "<style scoped>\n",
       "    .dataframe tbody tr th:only-of-type {\n",
       "        vertical-align: middle;\n",
       "    }\n",
       "\n",
       "    .dataframe tbody tr th {\n",
       "        vertical-align: top;\n",
       "    }\n",
       "\n",
       "    .dataframe thead th {\n",
       "        text-align: right;\n",
       "    }\n",
       "</style>\n",
       "<table border=\"1\" class=\"dataframe\">\n",
       "  <thead>\n",
       "    <tr style=\"text-align: right;\">\n",
       "      <th></th>\n",
       "      <th>0</th>\n",
       "      <th>1</th>\n",
       "      <th>2</th>\n",
       "      <th>cost</th>\n",
       "      <th>winnings</th>\n",
       "      <th>final</th>\n",
       "    </tr>\n",
       "  </thead>\n",
       "  <tbody>\n",
       "    <tr>\n",
       "      <th>0</th>\n",
       "      <td>4</td>\n",
       "      <td>2</td>\n",
       "      <td>2</td>\n",
       "      <td>-1</td>\n",
       "      <td>2</td>\n",
       "      <td>1</td>\n",
       "    </tr>\n",
       "    <tr>\n",
       "      <th>1</th>\n",
       "      <td>1</td>\n",
       "      <td>4</td>\n",
       "      <td>6</td>\n",
       "      <td>-1</td>\n",
       "      <td>0</td>\n",
       "      <td>-1</td>\n",
       "    </tr>\n",
       "    <tr>\n",
       "      <th>2</th>\n",
       "      <td>3</td>\n",
       "      <td>3</td>\n",
       "      <td>3</td>\n",
       "      <td>-1</td>\n",
       "      <td>0</td>\n",
       "      <td>-1</td>\n",
       "    </tr>\n",
       "    <tr>\n",
       "      <th>3</th>\n",
       "      <td>4</td>\n",
       "      <td>3</td>\n",
       "      <td>1</td>\n",
       "      <td>-1</td>\n",
       "      <td>0</td>\n",
       "      <td>-1</td>\n",
       "    </tr>\n",
       "    <tr>\n",
       "      <th>4</th>\n",
       "      <td>5</td>\n",
       "      <td>5</td>\n",
       "      <td>6</td>\n",
       "      <td>-1</td>\n",
       "      <td>0</td>\n",
       "      <td>-1</td>\n",
       "    </tr>\n",
       "    <tr>\n",
       "      <th>...</th>\n",
       "      <td>...</td>\n",
       "      <td>...</td>\n",
       "      <td>...</td>\n",
       "      <td>...</td>\n",
       "      <td>...</td>\n",
       "      <td>...</td>\n",
       "    </tr>\n",
       "    <tr>\n",
       "      <th>999995</th>\n",
       "      <td>3</td>\n",
       "      <td>6</td>\n",
       "      <td>3</td>\n",
       "      <td>-1</td>\n",
       "      <td>0</td>\n",
       "      <td>-1</td>\n",
       "    </tr>\n",
       "    <tr>\n",
       "      <th>999996</th>\n",
       "      <td>1</td>\n",
       "      <td>2</td>\n",
       "      <td>1</td>\n",
       "      <td>-1</td>\n",
       "      <td>1</td>\n",
       "      <td>0</td>\n",
       "    </tr>\n",
       "    <tr>\n",
       "      <th>999997</th>\n",
       "      <td>3</td>\n",
       "      <td>6</td>\n",
       "      <td>6</td>\n",
       "      <td>-1</td>\n",
       "      <td>0</td>\n",
       "      <td>-1</td>\n",
       "    </tr>\n",
       "    <tr>\n",
       "      <th>999998</th>\n",
       "      <td>1</td>\n",
       "      <td>6</td>\n",
       "      <td>5</td>\n",
       "      <td>-1</td>\n",
       "      <td>0</td>\n",
       "      <td>-1</td>\n",
       "    </tr>\n",
       "    <tr>\n",
       "      <th>999999</th>\n",
       "      <td>6</td>\n",
       "      <td>5</td>\n",
       "      <td>6</td>\n",
       "      <td>-1</td>\n",
       "      <td>0</td>\n",
       "      <td>-1</td>\n",
       "    </tr>\n",
       "  </tbody>\n",
       "</table>\n",
       "<p>1000000 rows × 6 columns</p>\n",
       "</div>"
      ],
      "text/plain": [
       "        0  1  2  cost  winnings  final\n",
       "0       4  2  2    -1         2      1\n",
       "1       1  4  6    -1         0     -1\n",
       "2       3  3  3    -1         0     -1\n",
       "3       4  3  1    -1         0     -1\n",
       "4       5  5  6    -1         0     -1\n",
       "...    .. .. ..   ...       ...    ...\n",
       "999995  3  6  3    -1         0     -1\n",
       "999996  1  2  1    -1         1      0\n",
       "999997  3  6  6    -1         0     -1\n",
       "999998  1  6  5    -1         0     -1\n",
       "999999  6  5  6    -1         0     -1\n",
       "\n",
       "[1000000 rows x 6 columns]"
      ]
     },
     "execution_count": 89,
     "metadata": {},
     "output_type": "execute_result"
    }
   ],
   "source": [
    "n_trials = nrows = 1_000_000\n",
    "n_dice = ncols = 3\n",
    "\n",
    "user_number = 2\n",
    "rolls = np.random.choice([1, 2, 3, 4, 5, 6], n_trials * n_dice).reshape(nrows, ncols)\n",
    "rolls == user_number\n",
    "number_of_matches = (rolls == user_number).sum(axis=1)\n",
    "rolls = pd.DataFrame(rolls)\n",
    "rolls[\"cost\"] = -1\n",
    "rolls[\"winnings\"] = number_of_matches\n",
    "rolls[\"final\"] = rolls[\"winnings\"] + rolls[\"cost\"]\n",
    "rolls"
   ]
  },
  {
   "cell_type": "code",
   "execution_count": 90,
   "id": "f34ad14c",
   "metadata": {},
   "outputs": [
    {
     "data": {
      "text/plain": [
       "-1    579626\n",
       " 0    346300\n",
       " 1     69405\n",
       " 2      4669\n",
       "Name: final, dtype: int64"
      ]
     },
     "execution_count": 90,
     "metadata": {},
     "output_type": "execute_result"
    }
   ],
   "source": [
    "rolls.final.value_counts()"
   ]
  },
  {
   "cell_type": "code",
   "execution_count": 91,
   "id": "b3b78e46",
   "metadata": {},
   "outputs": [
    {
     "name": "stdout",
     "output_type": "stream",
     "text": [
      "The chances of having an outcome payout of $2 is 0.47%\n"
     ]
    }
   ],
   "source": [
    "# What are your chances of getting an outcome payout of $2? (where we earned $3 on the $1 ante)\n",
    "print(f'The chances of having an outcome payout of $2 is {round((rolls.final == 2).mean()*100, 2)}%')"
   ]
  },
  {
   "cell_type": "code",
   "execution_count": 92,
   "id": "4d3e7c14",
   "metadata": {},
   "outputs": [
    {
     "name": "stdout",
     "output_type": "stream",
     "text": [
      "The chances of having an outcome payout of $1 is 6.94%\n"
     ]
    }
   ],
   "source": [
    "# What are your chances of getting an payout of $1?\n",
    "print(f'The chances of having an outcome payout of $1 is {round((rolls.final == 1).mean()*100, 2)}%')"
   ]
  },
  {
   "cell_type": "code",
   "execution_count": 93,
   "id": "0b6b2e26",
   "metadata": {},
   "outputs": [
    {
     "name": "stdout",
     "output_type": "stream",
     "text": [
      "The chances of having an outcome payout of $0 when you ante $1 and win $1 is 34.63%\n"
     ]
    }
   ],
   "source": [
    "# What are your chances of getting a payout of $0 where you ante $1 and win $1?\n",
    "print(f'The chances of having an outcome payout of $0 when you ante $1 and win $1 is {round((rolls.winnings == 1).mean()*100, 2)}%')"
   ]
  },
  {
   "cell_type": "code",
   "execution_count": 94,
   "id": "0c786b44",
   "metadata": {},
   "outputs": [
    {
     "name": "stdout",
     "output_type": "stream",
     "text": [
      "The chances of having an outcome where you lose $1 by not winning anything 57.96%\n"
     ]
    }
   ],
   "source": [
    "# What are your chances of getting a payout of -$1 where you ante up, but don't win anything?\n",
    "print(f'The chances of having an outcome where you lose $1 by not winning anything {round((rolls.winnings == 0).mean()*100, 2)}%')"
   ]
  },
  {
   "cell_type": "code",
   "execution_count": 101,
   "id": "6d72123c",
   "metadata": {},
   "outputs": [
    {
     "name": "stdout",
     "output_type": "stream",
     "text": [
      "The average payout/gain per game is $-0.5\n"
     ]
    }
   ],
   "source": [
    "# What is the average cost/gain per game? (think of averaging the total payout calculation across all simulations)\n",
    "print(f'The average payout/gain per game is ${round(rolls.final.mean(), 2)}')"
   ]
  },
  {
   "cell_type": "code",
   "execution_count": 98,
   "id": "58dbe756",
   "metadata": {},
   "outputs": [
    {
     "data": {
      "image/png": "[encoded data removed]",
      "text/plain": [
       "<Figure size 432x288 with 6 Axes>"
      ]
     },
     "metadata": {
      "needs_background": "light"
     },
     "output_type": "display_data"
    }
   ],
   "source": [
    "# Chart out a histogram of all the outcomes of those 1,000,000 games\n",
    "\n",
    "rolls.hist().resize()"
   ]
  },
  {
   "cell_type": "markdown",
   "id": "d7b0656b",
   "metadata": {},
   "source": [
    "# Is this really a fair game of 1/6 + 1/6 + 1/6 odds?\n",
    "Definitely not. The stats show that you will be losing the majority of the time.  "
   ]
  },
  {
   "cell_type": "code",
   "execution_count": null,
   "id": "0c3db853",
   "metadata": {},
   "outputs": [],
   "source": []
  }
 ],
 "metadata": {
  "kernelspec": {
   "display_name": "Python 3 (ipykernel)",
   "language": "python",
   "name": "python3"
  },
  "language_info": {
   "codemirror_mode": {
    "name": "ipython",
    "version": 3
   },
   "file_extension": ".py",
   "mimetype": "text/x-python",
   "name": "python",
   "nbconvert_exporter": "python",
   "pygments_lexer": "ipython3",
   "version": "3.9.7"
  }
 },
 "nbformat": 4,
 "nbformat_minor": 5
}
